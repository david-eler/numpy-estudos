{
 "cells": [
  {
   "cell_type": "markdown",
   "id": "0fa32f41",
   "metadata": {
    "papermill": {
     "duration": 0.020265,
     "end_time": "2023-11-28T19:02:31.249063",
     "exception": false,
     "start_time": "2023-11-28T19:02:31.228798",
     "status": "completed"
    },
    "tags": []
   },
   "source": [
    "# NumPy - Estudos e Anotações"
   ]
  },
  {
   "cell_type": "markdown",
   "id": "a939d266",
   "metadata": {
    "papermill": {
     "duration": 0.019643,
     "end_time": "2023-11-28T19:02:31.289490",
     "exception": false,
     "start_time": "2023-11-28T19:02:31.269847",
     "status": "completed"
    },
    "tags": []
   },
   "source": [
    "Documentação: https://numpy.org/doc/1.26/user/index.html#user"
   ]
  },
  {
   "cell_type": "markdown",
   "id": "67f6ad3d",
   "metadata": {
    "papermill": {
     "duration": 0.019433,
     "end_time": "2023-11-28T19:02:31.328852",
     "exception": false,
     "start_time": "2023-11-28T19:02:31.309419",
     "status": "completed"
    },
    "tags": []
   },
   "source": [
    "### Importando a biblioteca NumPy"
   ]
  },
  {
   "cell_type": "code",
   "execution_count": 1,
   "id": "62f56c31",
   "metadata": {
    "execution": {
     "iopub.execute_input": "2023-11-28T19:02:31.370906Z",
     "iopub.status.busy": "2023-11-28T19:02:31.370108Z",
     "iopub.status.idle": "2023-11-28T19:02:31.381343Z",
     "shell.execute_reply": "2023-11-28T19:02:31.380196Z"
    },
    "papermill": {
     "duration": 0.03532,
     "end_time": "2023-11-28T19:02:31.384111",
     "exception": false,
     "start_time": "2023-11-28T19:02:31.348791",
     "status": "completed"
    },
    "tags": []
   },
   "outputs": [],
   "source": [
    "import numpy as np"
   ]
  },
  {
   "cell_type": "markdown",
   "id": "f3f028ee",
   "metadata": {
    "papermill": {
     "duration": 0.019382,
     "end_time": "2023-11-28T19:02:31.423568",
     "exception": false,
     "start_time": "2023-11-28T19:02:31.404186",
     "status": "completed"
    },
    "tags": []
   },
   "source": [
    "## Fundamentos"
   ]
  },
  {
   "cell_type": "markdown",
   "id": "ee6dd7f4",
   "metadata": {
    "papermill": {
     "duration": 0.019702,
     "end_time": "2023-11-28T19:02:31.465117",
     "exception": false,
     "start_time": "2023-11-28T19:02:31.445415",
     "status": "completed"
    },
    "tags": []
   },
   "source": [
    "### Criação de um array"
   ]
  },
  {
   "cell_type": "code",
   "execution_count": 2,
   "id": "5e9ae061",
   "metadata": {
    "execution": {
     "iopub.execute_input": "2023-11-28T19:02:31.506874Z",
     "iopub.status.busy": "2023-11-28T19:02:31.506164Z",
     "iopub.status.idle": "2023-11-28T19:02:31.513518Z",
     "shell.execute_reply": "2023-11-28T19:02:31.512286Z"
    },
    "papermill": {
     "duration": 0.030982,
     "end_time": "2023-11-28T19:02:31.515751",
     "exception": false,
     "start_time": "2023-11-28T19:02:31.484769",
     "status": "completed"
    },
    "tags": []
   },
   "outputs": [
    {
     "name": "stdout",
     "output_type": "stream",
     "text": [
      "[1 2 3]\n"
     ]
    }
   ],
   "source": [
    "a = np.array([1,2,3])\n",
    "print(a)"
   ]
  },
  {
   "cell_type": "code",
   "execution_count": 3,
   "id": "eb9b975c",
   "metadata": {
    "execution": {
     "iopub.execute_input": "2023-11-28T19:02:31.557645Z",
     "iopub.status.busy": "2023-11-28T19:02:31.557219Z",
     "iopub.status.idle": "2023-11-28T19:02:31.564291Z",
     "shell.execute_reply": "2023-11-28T19:02:31.562927Z"
    },
    "papermill": {
     "duration": 0.030756,
     "end_time": "2023-11-28T19:02:31.566879",
     "exception": false,
     "start_time": "2023-11-28T19:02:31.536123",
     "status": "completed"
    },
    "tags": []
   },
   "outputs": [
    {
     "name": "stdout",
     "output_type": "stream",
     "text": [
      "[[9. 8. 7.]\n",
      " [6. 5. 4.]]\n"
     ]
    }
   ],
   "source": [
    "# Cria um array de 2 dimensões (2D)\n",
    "b = np.array([[9.0,8.0,7.0],[6.0,5.0,4.0]])\n",
    "print(b)"
   ]
  },
  {
   "cell_type": "code",
   "execution_count": 4,
   "id": "41ff32d3",
   "metadata": {
    "execution": {
     "iopub.execute_input": "2023-11-28T19:02:31.609223Z",
     "iopub.status.busy": "2023-11-28T19:02:31.608559Z",
     "iopub.status.idle": "2023-11-28T19:02:31.614336Z",
     "shell.execute_reply": "2023-11-28T19:02:31.613306Z"
    },
    "papermill": {
     "duration": 0.029449,
     "end_time": "2023-11-28T19:02:31.616497",
     "exception": false,
     "start_time": "2023-11-28T19:02:31.587048",
     "status": "completed"
    },
    "tags": []
   },
   "outputs": [
    {
     "name": "stdout",
     "output_type": "stream",
     "text": [
      "1\n",
      "2\n"
     ]
    }
   ],
   "source": [
    "# Retorna a quantidade de dimensões do array\n",
    "print(a.ndim)\n",
    "print(b.ndim)"
   ]
  },
  {
   "cell_type": "code",
   "execution_count": 5,
   "id": "7a9e3262",
   "metadata": {
    "execution": {
     "iopub.execute_input": "2023-11-28T19:02:31.658810Z",
     "iopub.status.busy": "2023-11-28T19:02:31.658211Z",
     "iopub.status.idle": "2023-11-28T19:02:31.663844Z",
     "shell.execute_reply": "2023-11-28T19:02:31.662842Z"
    },
    "papermill": {
     "duration": 0.029467,
     "end_time": "2023-11-28T19:02:31.666086",
     "exception": false,
     "start_time": "2023-11-28T19:02:31.636619",
     "status": "completed"
    },
    "tags": []
   },
   "outputs": [
    {
     "name": "stdout",
     "output_type": "stream",
     "text": [
      "(3,)\n",
      "(2, 3)\n"
     ]
    }
   ],
   "source": [
    "# Retorna a quantidade de colunas (1D) ou linhas e colunas (2D+)\n",
    "print(a.shape)\n",
    "print(b.shape)"
   ]
  },
  {
   "cell_type": "code",
   "execution_count": 6,
   "id": "4e055c1c",
   "metadata": {
    "execution": {
     "iopub.execute_input": "2023-11-28T19:02:31.709174Z",
     "iopub.status.busy": "2023-11-28T19:02:31.708765Z",
     "iopub.status.idle": "2023-11-28T19:02:31.716427Z",
     "shell.execute_reply": "2023-11-28T19:02:31.715312Z"
    },
    "papermill": {
     "duration": 0.032582,
     "end_time": "2023-11-28T19:02:31.719109",
     "exception": false,
     "start_time": "2023-11-28T19:02:31.686527",
     "status": "completed"
    },
    "tags": []
   },
   "outputs": [
    {
     "data": {
      "text/plain": [
       "dtype('int64')"
      ]
     },
     "execution_count": 6,
     "metadata": {},
     "output_type": "execute_result"
    }
   ],
   "source": [
    "# Retorna o tipo de dados no array\n",
    "a.dtype"
   ]
  },
  {
   "cell_type": "code",
   "execution_count": 7,
   "id": "6a94e1c7",
   "metadata": {
    "execution": {
     "iopub.execute_input": "2023-11-28T19:02:31.825655Z",
     "iopub.status.busy": "2023-11-28T19:02:31.825252Z",
     "iopub.status.idle": "2023-11-28T19:02:31.831431Z",
     "shell.execute_reply": "2023-11-28T19:02:31.830683Z"
    },
    "papermill": {
     "duration": 0.093913,
     "end_time": "2023-11-28T19:02:31.833899",
     "exception": false,
     "start_time": "2023-11-28T19:02:31.739986",
     "status": "completed"
    },
    "tags": []
   },
   "outputs": [
    {
     "data": {
      "text/plain": [
       "8"
      ]
     },
     "execution_count": 7,
     "metadata": {},
     "output_type": "execute_result"
    }
   ],
   "source": [
    "# Retorna o tamanho em bytes de cada item no array\n",
    "a.itemsize"
   ]
  },
  {
   "cell_type": "code",
   "execution_count": 8,
   "id": "22078e98",
   "metadata": {
    "execution": {
     "iopub.execute_input": "2023-11-28T19:02:31.877496Z",
     "iopub.status.busy": "2023-11-28T19:02:31.877097Z",
     "iopub.status.idle": "2023-11-28T19:02:31.883836Z",
     "shell.execute_reply": "2023-11-28T19:02:31.882747Z"
    },
    "papermill": {
     "duration": 0.031431,
     "end_time": "2023-11-28T19:02:31.886316",
     "exception": false,
     "start_time": "2023-11-28T19:02:31.854885",
     "status": "completed"
    },
    "tags": []
   },
   "outputs": [
    {
     "data": {
      "text/plain": [
       "24"
      ]
     },
     "execution_count": 8,
     "metadata": {},
     "output_type": "execute_result"
    }
   ],
   "source": [
    "# Retorna o tamanho total do array\n",
    "a.nbytes"
   ]
  },
  {
   "cell_type": "markdown",
   "id": "3534782e",
   "metadata": {
    "papermill": {
     "duration": 0.021406,
     "end_time": "2023-11-28T19:02:31.928515",
     "exception": false,
     "start_time": "2023-11-28T19:02:31.907109",
     "status": "completed"
    },
    "tags": []
   },
   "source": [
    "### Acessando/alterando elementos específicos, linhas, colunas etc"
   ]
  },
  {
   "cell_type": "code",
   "execution_count": 9,
   "id": "4f5ebb13",
   "metadata": {
    "execution": {
     "iopub.execute_input": "2023-11-28T19:02:31.975199Z",
     "iopub.status.busy": "2023-11-28T19:02:31.974769Z",
     "iopub.status.idle": "2023-11-28T19:02:31.981212Z",
     "shell.execute_reply": "2023-11-28T19:02:31.980058Z"
    },
    "papermill": {
     "duration": 0.033936,
     "end_time": "2023-11-28T19:02:31.984589",
     "exception": false,
     "start_time": "2023-11-28T19:02:31.950653",
     "status": "completed"
    },
    "tags": []
   },
   "outputs": [
    {
     "name": "stdout",
     "output_type": "stream",
     "text": [
      "[[ 1  2  3  4  5  6  7]\n",
      " [ 8  9 10 11 12 13 14]]\n"
     ]
    }
   ],
   "source": [
    "a = np.array([[1,2,3,4,5,6,7],[8,9,10,11,12,13,14]])\n",
    "print(a)"
   ]
  },
  {
   "cell_type": "code",
   "execution_count": 10,
   "id": "b2585031",
   "metadata": {
    "execution": {
     "iopub.execute_input": "2023-11-28T19:02:32.029895Z",
     "iopub.status.busy": "2023-11-28T19:02:32.029501Z",
     "iopub.status.idle": "2023-11-28T19:02:32.036495Z",
     "shell.execute_reply": "2023-11-28T19:02:32.035428Z"
    },
    "papermill": {
     "duration": 0.033038,
     "end_time": "2023-11-28T19:02:32.039291",
     "exception": false,
     "start_time": "2023-11-28T19:02:32.006253",
     "status": "completed"
    },
    "tags": []
   },
   "outputs": [
    {
     "data": {
      "text/plain": [
       "13"
      ]
     },
     "execution_count": 10,
     "metadata": {},
     "output_type": "execute_result"
    }
   ],
   "source": [
    "# Retorna um elemento específico [linha, coluna]\n",
    "a[1,-2]"
   ]
  },
  {
   "cell_type": "code",
   "execution_count": 11,
   "id": "120ee451",
   "metadata": {
    "execution": {
     "iopub.execute_input": "2023-11-28T19:02:32.084491Z",
     "iopub.status.busy": "2023-11-28T19:02:32.084107Z",
     "iopub.status.idle": "2023-11-28T19:02:32.091104Z",
     "shell.execute_reply": "2023-11-28T19:02:32.089893Z"
    },
    "papermill": {
     "duration": 0.032907,
     "end_time": "2023-11-28T19:02:32.093794",
     "exception": false,
     "start_time": "2023-11-28T19:02:32.060887",
     "status": "completed"
    },
    "tags": []
   },
   "outputs": [
    {
     "data": {
      "text/plain": [
       "array([1, 2, 3, 4, 5, 6, 7])"
      ]
     },
     "execution_count": 11,
     "metadata": {},
     "output_type": "execute_result"
    }
   ],
   "source": [
    "# Retorna uma linha específica. Neste caso, retorna todas as colunas (:) na primeira linha (slicing)\n",
    "a[0,:]"
   ]
  },
  {
   "cell_type": "code",
   "execution_count": 12,
   "id": "e580da2f",
   "metadata": {
    "execution": {
     "iopub.execute_input": "2023-11-28T19:02:32.138675Z",
     "iopub.status.busy": "2023-11-28T19:02:32.138306Z",
     "iopub.status.idle": "2023-11-28T19:02:32.145970Z",
     "shell.execute_reply": "2023-11-28T19:02:32.144811Z"
    },
    "papermill": {
     "duration": 0.033582,
     "end_time": "2023-11-28T19:02:32.148545",
     "exception": false,
     "start_time": "2023-11-28T19:02:32.114963",
     "status": "completed"
    },
    "tags": []
   },
   "outputs": [
    {
     "data": {
      "text/plain": [
       "array([ 3, 10])"
      ]
     },
     "execution_count": 12,
     "metadata": {},
     "output_type": "execute_result"
    }
   ],
   "source": [
    "# Retorna uma coluna específica. Neste caso, retorna todas as linhas (:) na terceira coluna\n",
    "a[:,2]"
   ]
  },
  {
   "cell_type": "code",
   "execution_count": 13,
   "id": "c2fe5737",
   "metadata": {
    "execution": {
     "iopub.execute_input": "2023-11-28T19:02:32.194553Z",
     "iopub.status.busy": "2023-11-28T19:02:32.193193Z",
     "iopub.status.idle": "2023-11-28T19:02:32.200235Z",
     "shell.execute_reply": "2023-11-28T19:02:32.199214Z"
    },
    "papermill": {
     "duration": 0.032286,
     "end_time": "2023-11-28T19:02:32.202484",
     "exception": false,
     "start_time": "2023-11-28T19:02:32.170198",
     "status": "completed"
    },
    "tags": []
   },
   "outputs": [
    {
     "data": {
      "text/plain": [
       "array([2, 4, 6])"
      ]
     },
     "execution_count": 13,
     "metadata": {},
     "output_type": "execute_result"
    }
   ],
   "source": [
    "# Notação slicing - [startindex:endindex:step]\n",
    "# Neste exemplo, retorna a primeira linha, da segunda até a última coluna, de 2 em 2\n",
    "a[0, 1:-1:2]"
   ]
  },
  {
   "cell_type": "code",
   "execution_count": 14,
   "id": "a36a09b8",
   "metadata": {
    "execution": {
     "iopub.execute_input": "2023-11-28T19:02:32.248112Z",
     "iopub.status.busy": "2023-11-28T19:02:32.247020Z",
     "iopub.status.idle": "2023-11-28T19:02:32.253432Z",
     "shell.execute_reply": "2023-11-28T19:02:32.252255Z"
    },
    "papermill": {
     "duration": 0.033439,
     "end_time": "2023-11-28T19:02:32.257606",
     "exception": false,
     "start_time": "2023-11-28T19:02:32.224167",
     "status": "completed"
    },
    "tags": []
   },
   "outputs": [
    {
     "name": "stdout",
     "output_type": "stream",
     "text": [
      "[[ 1  2  1  4  5  6  7]\n",
      " [ 8  9  2 11 12 20 14]]\n"
     ]
    }
   ],
   "source": [
    "a[1,5] = 20\n",
    "\n",
    "a[:,2] = [1,2]\n",
    "print(a)"
   ]
  },
  {
   "cell_type": "markdown",
   "id": "47b8424e",
   "metadata": {
    "papermill": {
     "duration": 0.021285,
     "end_time": "2023-11-28T19:02:32.300640",
     "exception": false,
     "start_time": "2023-11-28T19:02:32.279355",
     "status": "completed"
    },
    "tags": []
   },
   "source": [
    "#### Exemplo de um array 3D:"
   ]
  },
  {
   "cell_type": "code",
   "execution_count": 15,
   "id": "7b55859a",
   "metadata": {
    "execution": {
     "iopub.execute_input": "2023-11-28T19:02:32.346239Z",
     "iopub.status.busy": "2023-11-28T19:02:32.345809Z",
     "iopub.status.idle": "2023-11-28T19:02:32.352743Z",
     "shell.execute_reply": "2023-11-28T19:02:32.351308Z"
    },
    "papermill": {
     "duration": 0.032394,
     "end_time": "2023-11-28T19:02:32.355175",
     "exception": false,
     "start_time": "2023-11-28T19:02:32.322781",
     "status": "completed"
    },
    "tags": []
   },
   "outputs": [
    {
     "name": "stdout",
     "output_type": "stream",
     "text": [
      "[[[1 2]\n",
      "  [3 4]]\n",
      "\n",
      " [[5 6]\n",
      "  [7 8]]]\n"
     ]
    }
   ],
   "source": [
    "# Um array contendo 2 arrays, com 2 arrays cada\n",
    "b = np.array([[[1,2],[3,4]], [[5,6],[7,8]]])\n",
    "print(b)"
   ]
  },
  {
   "cell_type": "code",
   "execution_count": 16,
   "id": "4e53863c",
   "metadata": {
    "execution": {
     "iopub.execute_input": "2023-11-28T19:02:32.400667Z",
     "iopub.status.busy": "2023-11-28T19:02:32.400251Z",
     "iopub.status.idle": "2023-11-28T19:02:32.405529Z",
     "shell.execute_reply": "2023-11-28T19:02:32.404769Z"
    },
    "papermill": {
     "duration": 0.0309,
     "end_time": "2023-11-28T19:02:32.407853",
     "exception": false,
     "start_time": "2023-11-28T19:02:32.376953",
     "status": "completed"
    },
    "tags": []
   },
   "outputs": [
    {
     "name": "stdout",
     "output_type": "stream",
     "text": [
      "4\n"
     ]
    }
   ],
   "source": [
    "# Retorna um elemento específico do array 3D (a ordem é de fora para dentro)\n",
    "# Neste exemplo, retorna o segundo item do segundo array dentro do primeiro array\n",
    "print(b[0,1,1])"
   ]
  },
  {
   "cell_type": "code",
   "execution_count": 17,
   "id": "7be700c5",
   "metadata": {
    "execution": {
     "iopub.execute_input": "2023-11-28T19:02:32.453598Z",
     "iopub.status.busy": "2023-11-28T19:02:32.453190Z",
     "iopub.status.idle": "2023-11-28T19:02:32.459300Z",
     "shell.execute_reply": "2023-11-28T19:02:32.458259Z"
    },
    "papermill": {
     "duration": 0.03219,
     "end_time": "2023-11-28T19:02:32.461763",
     "exception": false,
     "start_time": "2023-11-28T19:02:32.429573",
     "status": "completed"
    },
    "tags": []
   },
   "outputs": [
    {
     "name": "stdout",
     "output_type": "stream",
     "text": [
      "[[[1 2]\n",
      "  [9 9]]\n",
      "\n",
      " [[5 6]\n",
      "  [8 8]]]\n"
     ]
    }
   ],
   "source": [
    "# Substitui itens\n",
    "b[:,1,:] = [[9,9],[8,8]]\n",
    "print(b)"
   ]
  },
  {
   "cell_type": "markdown",
   "id": "25c47677",
   "metadata": {
    "papermill": {
     "duration": 0.021982,
     "end_time": "2023-11-28T19:02:32.506349",
     "exception": false,
     "start_time": "2023-11-28T19:02:32.484367",
     "status": "completed"
    },
    "tags": []
   },
   "source": [
    "### Inicializando diferentes tipos de arrays"
   ]
  },
  {
   "cell_type": "code",
   "execution_count": 18,
   "id": "cc17d0fc",
   "metadata": {
    "execution": {
     "iopub.execute_input": "2023-11-28T19:02:32.553823Z",
     "iopub.status.busy": "2023-11-28T19:02:32.553420Z",
     "iopub.status.idle": "2023-11-28T19:02:32.559769Z",
     "shell.execute_reply": "2023-11-28T19:02:32.558985Z"
    },
    "papermill": {
     "duration": 0.031727,
     "end_time": "2023-11-28T19:02:32.561963",
     "exception": false,
     "start_time": "2023-11-28T19:02:32.530236",
     "status": "completed"
    },
    "tags": []
   },
   "outputs": [
    {
     "data": {
      "text/plain": [
       "array([[0., 0., 0.],\n",
       "       [0., 0., 0.]])"
      ]
     },
     "execution_count": 18,
     "metadata": {},
     "output_type": "execute_result"
    }
   ],
   "source": [
    "# A função 'zeros' retorna um array/matriz de zeros\n",
    "np.zeros((2,3))"
   ]
  },
  {
   "cell_type": "code",
   "execution_count": 19,
   "id": "3b3853ac",
   "metadata": {
    "execution": {
     "iopub.execute_input": "2023-11-28T19:02:32.608219Z",
     "iopub.status.busy": "2023-11-28T19:02:32.607809Z",
     "iopub.status.idle": "2023-11-28T19:02:32.614254Z",
     "shell.execute_reply": "2023-11-28T19:02:32.613501Z"
    },
    "papermill": {
     "duration": 0.031895,
     "end_time": "2023-11-28T19:02:32.616317",
     "exception": false,
     "start_time": "2023-11-28T19:02:32.584422",
     "status": "completed"
    },
    "tags": []
   },
   "outputs": [
    {
     "data": {
      "text/plain": [
       "array([[[1, 1],\n",
       "        [1, 1]],\n",
       "\n",
       "       [[1, 1],\n",
       "        [1, 1]],\n",
       "\n",
       "       [[1, 1],\n",
       "        [1, 1]],\n",
       "\n",
       "       [[1, 1],\n",
       "        [1, 1]]], dtype=int16)"
      ]
     },
     "execution_count": 19,
     "metadata": {},
     "output_type": "execute_result"
    }
   ],
   "source": [
    "# A função 'ones' retorna um array/matriz de uns, e neste caso recebe o parâmetro 'dtype', como inteiro \n",
    "# (16 bits)\n",
    "np.ones((4,2,2), dtype='int16')"
   ]
  },
  {
   "cell_type": "code",
   "execution_count": 20,
   "id": "118e9825",
   "metadata": {
    "execution": {
     "iopub.execute_input": "2023-11-28T19:02:32.662826Z",
     "iopub.status.busy": "2023-11-28T19:02:32.662427Z",
     "iopub.status.idle": "2023-11-28T19:02:32.669906Z",
     "shell.execute_reply": "2023-11-28T19:02:32.668568Z"
    },
    "papermill": {
     "duration": 0.037233,
     "end_time": "2023-11-28T19:02:32.675967",
     "exception": false,
     "start_time": "2023-11-28T19:02:32.638734",
     "status": "completed"
    },
    "tags": []
   },
   "outputs": [
    {
     "data": {
      "text/plain": [
       "array([[99, 99],\n",
       "       [99, 99]])"
      ]
     },
     "execution_count": 20,
     "metadata": {},
     "output_type": "execute_result"
    }
   ],
   "source": [
    "# A função 'full' retorna um array/matriz com um número à escolha\n",
    "np.full((2,2), 99)"
   ]
  },
  {
   "cell_type": "code",
   "execution_count": 21,
   "id": "136245a4",
   "metadata": {
    "execution": {
     "iopub.execute_input": "2023-11-28T19:02:32.723165Z",
     "iopub.status.busy": "2023-11-28T19:02:32.722293Z",
     "iopub.status.idle": "2023-11-28T19:02:32.729348Z",
     "shell.execute_reply": "2023-11-28T19:02:32.728210Z"
    },
    "papermill": {
     "duration": 0.033664,
     "end_time": "2023-11-28T19:02:32.732075",
     "exception": false,
     "start_time": "2023-11-28T19:02:32.698411",
     "status": "completed"
    },
    "tags": []
   },
   "outputs": [
    {
     "data": {
      "text/plain": [
       "array([[4, 4, 4, 4, 4, 4, 4],\n",
       "       [4, 4, 4, 4, 4, 4, 4]])"
      ]
     },
     "execution_count": 21,
     "metadata": {},
     "output_type": "execute_result"
    }
   ],
   "source": [
    "# A função 'full_like' funciona com a função 'full', e permite usar o shape de outro array\n",
    "np.full_like(a, 4)"
   ]
  },
  {
   "cell_type": "code",
   "execution_count": 22,
   "id": "b33b09f1",
   "metadata": {
    "execution": {
     "iopub.execute_input": "2023-11-28T19:02:32.778605Z",
     "iopub.status.busy": "2023-11-28T19:02:32.778218Z",
     "iopub.status.idle": "2023-11-28T19:02:32.785082Z",
     "shell.execute_reply": "2023-11-28T19:02:32.784279Z"
    },
    "papermill": {
     "duration": 0.032616,
     "end_time": "2023-11-28T19:02:32.787104",
     "exception": false,
     "start_time": "2023-11-28T19:02:32.754488",
     "status": "completed"
    },
    "tags": []
   },
   "outputs": [
    {
     "data": {
      "text/plain": [
       "array([[0.96157651, 0.4068977 ],\n",
       "       [0.85990289, 0.77601041],\n",
       "       [0.88550433, 0.04463166],\n",
       "       [0.54024869, 0.56967836]])"
      ]
     },
     "execution_count": 22,
     "metadata": {},
     "output_type": "execute_result"
    }
   ],
   "source": [
    "# A função 'random.rand' retorna números decimais aleatórios\n",
    "np.random.rand(4,2)"
   ]
  },
  {
   "cell_type": "code",
   "execution_count": 23,
   "id": "654255c8",
   "metadata": {
    "execution": {
     "iopub.execute_input": "2023-11-28T19:02:32.835491Z",
     "iopub.status.busy": "2023-11-28T19:02:32.835024Z",
     "iopub.status.idle": "2023-11-28T19:02:32.844417Z",
     "shell.execute_reply": "2023-11-28T19:02:32.843267Z"
    },
    "papermill": {
     "duration": 0.037005,
     "end_time": "2023-11-28T19:02:32.846918",
     "exception": false,
     "start_time": "2023-11-28T19:02:32.809913",
     "status": "completed"
    },
    "tags": []
   },
   "outputs": [
    {
     "data": {
      "text/plain": [
       "array([[3, 4, 5],\n",
       "       [4, 5, 1],\n",
       "       [6, 7, 1]])"
      ]
     },
     "execution_count": 23,
     "metadata": {},
     "output_type": "execute_result"
    }
   ],
   "source": [
    "# A função 'random.randint' retorna números inteiros aleatórios\n",
    "np.random.randint(8, size=(3,3))"
   ]
  },
  {
   "cell_type": "code",
   "execution_count": 24,
   "id": "1ee31486",
   "metadata": {
    "execution": {
     "iopub.execute_input": "2023-11-28T19:02:32.895367Z",
     "iopub.status.busy": "2023-11-28T19:02:32.894928Z",
     "iopub.status.idle": "2023-11-28T19:02:32.901957Z",
     "shell.execute_reply": "2023-11-28T19:02:32.901193Z"
    },
    "papermill": {
     "duration": 0.033465,
     "end_time": "2023-11-28T19:02:32.904252",
     "exception": false,
     "start_time": "2023-11-28T19:02:32.870787",
     "status": "completed"
    },
    "tags": []
   },
   "outputs": [
    {
     "data": {
      "text/plain": [
       "array([[1., 0., 0., 0., 0.],\n",
       "       [0., 1., 0., 0., 0.],\n",
       "       [0., 0., 1., 0., 0.],\n",
       "       [0., 0., 0., 1., 0.],\n",
       "       [0., 0., 0., 0., 1.]])"
      ]
     },
     "execution_count": 24,
     "metadata": {},
     "output_type": "execute_result"
    }
   ],
   "source": [
    "# A função 'identity' retorna uma matriz identidade\n",
    "np.identity(5)"
   ]
  },
  {
   "cell_type": "code",
   "execution_count": 25,
   "id": "3fc4a73e",
   "metadata": {
    "execution": {
     "iopub.execute_input": "2023-11-28T19:02:32.951929Z",
     "iopub.status.busy": "2023-11-28T19:02:32.951516Z",
     "iopub.status.idle": "2023-11-28T19:02:32.957970Z",
     "shell.execute_reply": "2023-11-28T19:02:32.956913Z"
    },
    "papermill": {
     "duration": 0.033441,
     "end_time": "2023-11-28T19:02:32.960771",
     "exception": false,
     "start_time": "2023-11-28T19:02:32.927330",
     "status": "completed"
    },
    "tags": []
   },
   "outputs": [
    {
     "name": "stdout",
     "output_type": "stream",
     "text": [
      "[[1 2 3]\n",
      " [1 2 3]\n",
      " [1 2 3]]\n"
     ]
    }
   ],
   "source": [
    "# A função 'repeat' retorna uma matriz de arrays repetidos\n",
    "arr = np.array([[1,2,3]])\n",
    "r1 = np.repeat(arr,3,axis=0)\n",
    "print(r1)"
   ]
  },
  {
   "cell_type": "code",
   "execution_count": 26,
   "id": "0eb34b5d",
   "metadata": {
    "execution": {
     "iopub.execute_input": "2023-11-28T19:02:33.011249Z",
     "iopub.status.busy": "2023-11-28T19:02:33.010587Z",
     "iopub.status.idle": "2023-11-28T19:02:33.017372Z",
     "shell.execute_reply": "2023-11-28T19:02:33.016054Z"
    },
    "papermill": {
     "duration": 0.033961,
     "end_time": "2023-11-28T19:02:33.019736",
     "exception": false,
     "start_time": "2023-11-28T19:02:32.985775",
     "status": "completed"
    },
    "tags": []
   },
   "outputs": [
    {
     "name": "stdout",
     "output_type": "stream",
     "text": [
      "[[1 1 1 1 1]\n",
      " [1 0 0 0 1]\n",
      " [1 0 9 0 1]\n",
      " [1 0 0 0 1]\n",
      " [1 1 1 1 1]]\n"
     ]
    }
   ],
   "source": [
    "arr2 = np.ones((5,5),dtype='int16')\n",
    "\n",
    "z = np.zeros((3,3))\n",
    "z[1,1] = 9\n",
    "arr2[1:-1,1:-1] = z\n",
    "\n",
    "print(arr2)"
   ]
  },
  {
   "cell_type": "markdown",
   "id": "da44daf2",
   "metadata": {
    "papermill": {
     "duration": 0.023154,
     "end_time": "2023-11-28T19:02:33.067228",
     "exception": false,
     "start_time": "2023-11-28T19:02:33.044074",
     "status": "completed"
    },
    "tags": []
   },
   "source": [
    "#### Tenha cuidado quando copiar arrays"
   ]
  },
  {
   "cell_type": "code",
   "execution_count": 27,
   "id": "9155b35c",
   "metadata": {
    "execution": {
     "iopub.execute_input": "2023-11-28T19:02:33.116034Z",
     "iopub.status.busy": "2023-11-28T19:02:33.115587Z",
     "iopub.status.idle": "2023-11-28T19:02:33.122300Z",
     "shell.execute_reply": "2023-11-28T19:02:33.121129Z"
    },
    "papermill": {
     "duration": 0.034601,
     "end_time": "2023-11-28T19:02:33.125145",
     "exception": false,
     "start_time": "2023-11-28T19:02:33.090544",
     "status": "completed"
    },
    "tags": []
   },
   "outputs": [
    {
     "name": "stdout",
     "output_type": "stream",
     "text": [
      "[100   2   3]\n"
     ]
    }
   ],
   "source": [
    "a = np.array([1,2,3])\n",
    "b = a\n",
    "b[0] = 100\n",
    "print(a)"
   ]
  },
  {
   "cell_type": "code",
   "execution_count": 28,
   "id": "71bb7f05",
   "metadata": {
    "execution": {
     "iopub.execute_input": "2023-11-28T19:02:33.174246Z",
     "iopub.status.busy": "2023-11-28T19:02:33.173596Z",
     "iopub.status.idle": "2023-11-28T19:02:33.181574Z",
     "shell.execute_reply": "2023-11-28T19:02:33.180014Z"
    },
    "papermill": {
     "duration": 0.035381,
     "end_time": "2023-11-28T19:02:33.183971",
     "exception": false,
     "start_time": "2023-11-28T19:02:33.148590",
     "status": "completed"
    },
    "tags": []
   },
   "outputs": [
    {
     "name": "stdout",
     "output_type": "stream",
     "text": [
      "[1 2 3]\n",
      "[100   2   3]\n"
     ]
    }
   ],
   "source": [
    "a = np.array([1,2,3])\n",
    "b = a.copy()\n",
    "b[0] = 100\n",
    "print(a)\n",
    "print(b)"
   ]
  },
  {
   "cell_type": "markdown",
   "id": "18e2e65f",
   "metadata": {
    "papermill": {
     "duration": 0.023624,
     "end_time": "2023-11-28T19:02:33.231075",
     "exception": false,
     "start_time": "2023-11-28T19:02:33.207451",
     "status": "completed"
    },
    "tags": []
   },
   "source": [
    "### Operações matemáticas"
   ]
  },
  {
   "cell_type": "code",
   "execution_count": 29,
   "id": "a5fce0a7",
   "metadata": {
    "execution": {
     "iopub.execute_input": "2023-11-28T19:02:33.281965Z",
     "iopub.status.busy": "2023-11-28T19:02:33.280802Z",
     "iopub.status.idle": "2023-11-28T19:02:33.287175Z",
     "shell.execute_reply": "2023-11-28T19:02:33.286091Z"
    },
    "papermill": {
     "duration": 0.034804,
     "end_time": "2023-11-28T19:02:33.289588",
     "exception": false,
     "start_time": "2023-11-28T19:02:33.254784",
     "status": "completed"
    },
    "tags": []
   },
   "outputs": [
    {
     "name": "stdout",
     "output_type": "stream",
     "text": [
      "[1 2 3 4]\n"
     ]
    }
   ],
   "source": [
    "a = np.array([1,2,3,4])\n",
    "print(a)"
   ]
  },
  {
   "cell_type": "code",
   "execution_count": 30,
   "id": "c8879620",
   "metadata": {
    "execution": {
     "iopub.execute_input": "2023-11-28T19:02:33.339234Z",
     "iopub.status.busy": "2023-11-28T19:02:33.338811Z",
     "iopub.status.idle": "2023-11-28T19:02:33.345052Z",
     "shell.execute_reply": "2023-11-28T19:02:33.344040Z"
    },
    "papermill": {
     "duration": 0.034022,
     "end_time": "2023-11-28T19:02:33.347415",
     "exception": false,
     "start_time": "2023-11-28T19:02:33.313393",
     "status": "completed"
    },
    "tags": []
   },
   "outputs": [
    {
     "data": {
      "text/plain": [
       "array([3, 4, 5, 6])"
      ]
     },
     "execution_count": 30,
     "metadata": {},
     "output_type": "execute_result"
    }
   ],
   "source": [
    "a + 2"
   ]
  },
  {
   "cell_type": "code",
   "execution_count": 31,
   "id": "a4a9fea9",
   "metadata": {
    "execution": {
     "iopub.execute_input": "2023-11-28T19:02:33.396750Z",
     "iopub.status.busy": "2023-11-28T19:02:33.396382Z",
     "iopub.status.idle": "2023-11-28T19:02:33.403095Z",
     "shell.execute_reply": "2023-11-28T19:02:33.402047Z"
    },
    "papermill": {
     "duration": 0.034191,
     "end_time": "2023-11-28T19:02:33.405468",
     "exception": false,
     "start_time": "2023-11-28T19:02:33.371277",
     "status": "completed"
    },
    "tags": []
   },
   "outputs": [
    {
     "data": {
      "text/plain": [
       "array([-1,  0,  1,  2])"
      ]
     },
     "execution_count": 31,
     "metadata": {},
     "output_type": "execute_result"
    }
   ],
   "source": [
    "a - 2"
   ]
  },
  {
   "cell_type": "code",
   "execution_count": 32,
   "id": "e72f92af",
   "metadata": {
    "execution": {
     "iopub.execute_input": "2023-11-28T19:02:33.455897Z",
     "iopub.status.busy": "2023-11-28T19:02:33.454737Z",
     "iopub.status.idle": "2023-11-28T19:02:33.462329Z",
     "shell.execute_reply": "2023-11-28T19:02:33.461179Z"
    },
    "papermill": {
     "duration": 0.035159,
     "end_time": "2023-11-28T19:02:33.464691",
     "exception": false,
     "start_time": "2023-11-28T19:02:33.429532",
     "status": "completed"
    },
    "tags": []
   },
   "outputs": [
    {
     "data": {
      "text/plain": [
       "array([2, 4, 6, 8])"
      ]
     },
     "execution_count": 32,
     "metadata": {},
     "output_type": "execute_result"
    }
   ],
   "source": [
    "a * 2"
   ]
  },
  {
   "cell_type": "code",
   "execution_count": 33,
   "id": "44aac0fe",
   "metadata": {
    "execution": {
     "iopub.execute_input": "2023-11-28T19:02:33.514735Z",
     "iopub.status.busy": "2023-11-28T19:02:33.514089Z",
     "iopub.status.idle": "2023-11-28T19:02:33.520828Z",
     "shell.execute_reply": "2023-11-28T19:02:33.520033Z"
    },
    "papermill": {
     "duration": 0.034375,
     "end_time": "2023-11-28T19:02:33.523231",
     "exception": false,
     "start_time": "2023-11-28T19:02:33.488856",
     "status": "completed"
    },
    "tags": []
   },
   "outputs": [
    {
     "data": {
      "text/plain": [
       "array([0.5, 1. , 1.5, 2. ])"
      ]
     },
     "execution_count": 33,
     "metadata": {},
     "output_type": "execute_result"
    }
   ],
   "source": [
    "a / 2"
   ]
  },
  {
   "cell_type": "code",
   "execution_count": 34,
   "id": "aa733c90",
   "metadata": {
    "execution": {
     "iopub.execute_input": "2023-11-28T19:02:33.574989Z",
     "iopub.status.busy": "2023-11-28T19:02:33.574628Z",
     "iopub.status.idle": "2023-11-28T19:02:33.581499Z",
     "shell.execute_reply": "2023-11-28T19:02:33.580404Z"
    },
    "papermill": {
     "duration": 0.035303,
     "end_time": "2023-11-28T19:02:33.583865",
     "exception": false,
     "start_time": "2023-11-28T19:02:33.548562",
     "status": "completed"
    },
    "tags": []
   },
   "outputs": [
    {
     "data": {
      "text/plain": [
       "array([2, 2, 4, 4])"
      ]
     },
     "execution_count": 34,
     "metadata": {},
     "output_type": "execute_result"
    }
   ],
   "source": [
    "b = np.array([1,0,1,0])\n",
    "a+b"
   ]
  },
  {
   "cell_type": "code",
   "execution_count": 35,
   "id": "6552d053",
   "metadata": {
    "execution": {
     "iopub.execute_input": "2023-11-28T19:02:33.634447Z",
     "iopub.status.busy": "2023-11-28T19:02:33.634066Z",
     "iopub.status.idle": "2023-11-28T19:02:33.640969Z",
     "shell.execute_reply": "2023-11-28T19:02:33.639730Z"
    },
    "papermill": {
     "duration": 0.0353,
     "end_time": "2023-11-28T19:02:33.643339",
     "exception": false,
     "start_time": "2023-11-28T19:02:33.608039",
     "status": "completed"
    },
    "tags": []
   },
   "outputs": [
    {
     "data": {
      "text/plain": [
       "array([ 1,  4,  9, 16])"
      ]
     },
     "execution_count": 35,
     "metadata": {},
     "output_type": "execute_result"
    }
   ],
   "source": [
    "a**2"
   ]
  },
  {
   "cell_type": "markdown",
   "id": "344b8106",
   "metadata": {
    "papermill": {
     "duration": 0.024413,
     "end_time": "2023-11-28T19:02:33.692352",
     "exception": false,
     "start_time": "2023-11-28T19:02:33.667939",
     "status": "completed"
    },
    "tags": []
   },
   "source": [
    "### Álgebra Linear"
   ]
  },
  {
   "cell_type": "code",
   "execution_count": 36,
   "id": "68a37d13",
   "metadata": {
    "execution": {
     "iopub.execute_input": "2023-11-28T19:02:33.743624Z",
     "iopub.status.busy": "2023-11-28T19:02:33.742670Z",
     "iopub.status.idle": "2023-11-28T19:02:33.756661Z",
     "shell.execute_reply": "2023-11-28T19:02:33.755616Z"
    },
    "papermill": {
     "duration": 0.042029,
     "end_time": "2023-11-28T19:02:33.758946",
     "exception": false,
     "start_time": "2023-11-28T19:02:33.716917",
     "status": "completed"
    },
    "tags": []
   },
   "outputs": [
    {
     "name": "stdout",
     "output_type": "stream",
     "text": [
      "[[1. 1. 1.]\n",
      " [1. 1. 1.]]\n",
      "[[2 2]\n",
      " [2 2]\n",
      " [2 2]]\n"
     ]
    },
    {
     "data": {
      "text/plain": [
       "array([[6., 6.],\n",
       "       [6., 6.]])"
      ]
     },
     "execution_count": 36,
     "metadata": {},
     "output_type": "execute_result"
    }
   ],
   "source": [
    "a = np.ones((2,3))\n",
    "print(a)\n",
    "\n",
    "b = np.full((3,2), 2)\n",
    "print(b)\n",
    "\n",
    "np.matmul(a,b)"
   ]
  },
  {
   "cell_type": "code",
   "execution_count": 37,
   "id": "1c29dd5e",
   "metadata": {
    "execution": {
     "iopub.execute_input": "2023-11-28T19:02:33.810183Z",
     "iopub.status.busy": "2023-11-28T19:02:33.809719Z",
     "iopub.status.idle": "2023-11-28T19:02:33.817058Z",
     "shell.execute_reply": "2023-11-28T19:02:33.816005Z"
    },
    "papermill": {
     "duration": 0.03586,
     "end_time": "2023-11-28T19:02:33.819427",
     "exception": false,
     "start_time": "2023-11-28T19:02:33.783567",
     "status": "completed"
    },
    "tags": []
   },
   "outputs": [
    {
     "data": {
      "text/plain": [
       "1.0"
      ]
     },
     "execution_count": 37,
     "metadata": {},
     "output_type": "execute_result"
    }
   ],
   "source": [
    "# Encontra a determinante\n",
    "c = np.identity(3)\n",
    "np.linalg.det(c)"
   ]
  },
  {
   "cell_type": "markdown",
   "id": "c67d3de3",
   "metadata": {
    "papermill": {
     "duration": 0.025142,
     "end_time": "2023-11-28T19:02:33.869973",
     "exception": false,
     "start_time": "2023-11-28T19:02:33.844831",
     "status": "completed"
    },
    "tags": []
   },
   "source": [
    "### Funções estatísticas"
   ]
  },
  {
   "cell_type": "code",
   "execution_count": 38,
   "id": "f96e1aae",
   "metadata": {
    "execution": {
     "iopub.execute_input": "2023-11-28T19:02:33.923339Z",
     "iopub.status.busy": "2023-11-28T19:02:33.922366Z",
     "iopub.status.idle": "2023-11-28T19:02:33.930202Z",
     "shell.execute_reply": "2023-11-28T19:02:33.929030Z"
    },
    "papermill": {
     "duration": 0.037324,
     "end_time": "2023-11-28T19:02:33.932686",
     "exception": false,
     "start_time": "2023-11-28T19:02:33.895362",
     "status": "completed"
    },
    "tags": []
   },
   "outputs": [
    {
     "data": {
      "text/plain": [
       "array([[1, 2, 3],\n",
       "       [4, 5, 6]])"
      ]
     },
     "execution_count": 38,
     "metadata": {},
     "output_type": "execute_result"
    }
   ],
   "source": [
    "stats = np.array([[1,2,3],[4,5,6]])\n",
    "stats"
   ]
  },
  {
   "cell_type": "code",
   "execution_count": 39,
   "id": "365cc4f2",
   "metadata": {
    "execution": {
     "iopub.execute_input": "2023-11-28T19:02:33.985347Z",
     "iopub.status.busy": "2023-11-28T19:02:33.984634Z",
     "iopub.status.idle": "2023-11-28T19:02:33.992516Z",
     "shell.execute_reply": "2023-11-28T19:02:33.991183Z"
    },
    "papermill": {
     "duration": 0.036878,
     "end_time": "2023-11-28T19:02:33.994753",
     "exception": false,
     "start_time": "2023-11-28T19:02:33.957875",
     "status": "completed"
    },
    "tags": []
   },
   "outputs": [
    {
     "data": {
      "text/plain": [
       "1"
      ]
     },
     "execution_count": 39,
     "metadata": {},
     "output_type": "execute_result"
    }
   ],
   "source": [
    "np.min(stats)"
   ]
  },
  {
   "cell_type": "code",
   "execution_count": 40,
   "id": "d940ead9",
   "metadata": {
    "execution": {
     "iopub.execute_input": "2023-11-28T19:02:34.048525Z",
     "iopub.status.busy": "2023-11-28T19:02:34.047940Z",
     "iopub.status.idle": "2023-11-28T19:02:34.055383Z",
     "shell.execute_reply": "2023-11-28T19:02:34.054298Z"
    },
    "papermill": {
     "duration": 0.036971,
     "end_time": "2023-11-28T19:02:34.057800",
     "exception": false,
     "start_time": "2023-11-28T19:02:34.020829",
     "status": "completed"
    },
    "tags": []
   },
   "outputs": [
    {
     "data": {
      "text/plain": [
       "6"
      ]
     },
     "execution_count": 40,
     "metadata": {},
     "output_type": "execute_result"
    }
   ],
   "source": [
    "np.max(stats)"
   ]
  },
  {
   "cell_type": "code",
   "execution_count": 41,
   "id": "35acff4e",
   "metadata": {
    "execution": {
     "iopub.execute_input": "2023-11-28T19:02:34.111333Z",
     "iopub.status.busy": "2023-11-28T19:02:34.110889Z",
     "iopub.status.idle": "2023-11-28T19:02:34.118763Z",
     "shell.execute_reply": "2023-11-28T19:02:34.117685Z"
    },
    "papermill": {
     "duration": 0.036975,
     "end_time": "2023-11-28T19:02:34.121174",
     "exception": false,
     "start_time": "2023-11-28T19:02:34.084199",
     "status": "completed"
    },
    "tags": []
   },
   "outputs": [
    {
     "data": {
      "text/plain": [
       "21"
      ]
     },
     "execution_count": 41,
     "metadata": {},
     "output_type": "execute_result"
    }
   ],
   "source": [
    "np.sum(stats)"
   ]
  },
  {
   "cell_type": "markdown",
   "id": "9add6265",
   "metadata": {
    "papermill": {
     "duration": 0.025107,
     "end_time": "2023-11-28T19:02:34.171917",
     "exception": false,
     "start_time": "2023-11-28T19:02:34.146810",
     "status": "completed"
    },
    "tags": []
   },
   "source": [
    "### Rearranjando arrays"
   ]
  },
  {
   "cell_type": "code",
   "execution_count": 42,
   "id": "b41ae329",
   "metadata": {
    "execution": {
     "iopub.execute_input": "2023-11-28T19:02:34.225906Z",
     "iopub.status.busy": "2023-11-28T19:02:34.225474Z",
     "iopub.status.idle": "2023-11-28T19:02:34.233097Z",
     "shell.execute_reply": "2023-11-28T19:02:34.231619Z"
    },
    "papermill": {
     "duration": 0.037823,
     "end_time": "2023-11-28T19:02:34.235797",
     "exception": false,
     "start_time": "2023-11-28T19:02:34.197974",
     "status": "completed"
    },
    "tags": []
   },
   "outputs": [
    {
     "name": "stdout",
     "output_type": "stream",
     "text": [
      "[[1 2 3 4]\n",
      " [5 6 7 8]]\n",
      "[[1]\n",
      " [2]\n",
      " [3]\n",
      " [4]\n",
      " [5]\n",
      " [6]\n",
      " [7]\n",
      " [8]]\n"
     ]
    }
   ],
   "source": [
    "before = np.array([[1,2,3,4],[5,6,7,8]])\n",
    "print(before)\n",
    "\n",
    "after = before.reshape((8,1))\n",
    "print(after)"
   ]
  },
  {
   "cell_type": "code",
   "execution_count": 43,
   "id": "573c28aa",
   "metadata": {
    "execution": {
     "iopub.execute_input": "2023-11-28T19:02:34.290141Z",
     "iopub.status.busy": "2023-11-28T19:02:34.289719Z",
     "iopub.status.idle": "2023-11-28T19:02:34.297730Z",
     "shell.execute_reply": "2023-11-28T19:02:34.296921Z"
    },
    "papermill": {
     "duration": 0.038038,
     "end_time": "2023-11-28T19:02:34.299923",
     "exception": false,
     "start_time": "2023-11-28T19:02:34.261885",
     "status": "completed"
    },
    "tags": []
   },
   "outputs": [
    {
     "data": {
      "text/plain": [
       "array([[1, 2, 3, 4],\n",
       "       [5, 6, 7, 8]])"
      ]
     },
     "execution_count": 43,
     "metadata": {},
     "output_type": "execute_result"
    }
   ],
   "source": [
    "# Empilhando vetores verticalmente\n",
    "v1 = np.array([1,2,3,4])\n",
    "v2 = np.array([5,6,7,8])\n",
    "\n",
    "np.vstack([v1,v2])"
   ]
  },
  {
   "cell_type": "code",
   "execution_count": 44,
   "id": "af8be86a",
   "metadata": {
    "execution": {
     "iopub.execute_input": "2023-11-28T19:02:34.353143Z",
     "iopub.status.busy": "2023-11-28T19:02:34.352737Z",
     "iopub.status.idle": "2023-11-28T19:02:34.360133Z",
     "shell.execute_reply": "2023-11-28T19:02:34.359085Z"
    },
    "papermill": {
     "duration": 0.036675,
     "end_time": "2023-11-28T19:02:34.362452",
     "exception": false,
     "start_time": "2023-11-28T19:02:34.325777",
     "status": "completed"
    },
    "tags": []
   },
   "outputs": [
    {
     "data": {
      "text/plain": [
       "array([1, 2, 3, 4, 5, 6, 7, 8])"
      ]
     },
     "execution_count": 44,
     "metadata": {},
     "output_type": "execute_result"
    }
   ],
   "source": [
    "# Empilhando vetores horizontamente\n",
    "np.hstack([v1,v2])"
   ]
  },
  {
   "cell_type": "markdown",
   "id": "a17ef832",
   "metadata": {
    "papermill": {
     "duration": 0.025722,
     "end_time": "2023-11-28T19:02:34.413960",
     "exception": false,
     "start_time": "2023-11-28T19:02:34.388238",
     "status": "completed"
    },
    "tags": []
   },
   "source": [
    "### Diversos"
   ]
  },
  {
   "cell_type": "markdown",
   "id": "53e0afcb",
   "metadata": {
    "papermill": {
     "duration": 0.025548,
     "end_time": "2023-11-28T19:02:34.465445",
     "exception": false,
     "start_time": "2023-11-28T19:02:34.439897",
     "status": "completed"
    },
    "tags": []
   },
   "source": [
    "##### Ler dados de um arquivo"
   ]
  },
  {
   "cell_type": "code",
   "execution_count": 45,
   "id": "ac9e0a4a",
   "metadata": {
    "execution": {
     "iopub.execute_input": "2023-11-28T19:02:34.519586Z",
     "iopub.status.busy": "2023-11-28T19:02:34.519193Z",
     "iopub.status.idle": "2023-11-28T19:02:34.534587Z",
     "shell.execute_reply": "2023-11-28T19:02:34.533650Z"
    },
    "papermill": {
     "duration": 0.045262,
     "end_time": "2023-11-28T19:02:34.536812",
     "exception": false,
     "start_time": "2023-11-28T19:02:34.491550",
     "status": "completed"
    },
    "tags": []
   },
   "outputs": [
    {
     "data": {
      "text/plain": [
       "array([[  1,  13,  21,  11, 196,  75,   4,   3,  34,   6,   7,   8,   0,\n",
       "          1,   2,   3,   4,   5],\n",
       "       [  3,  42,  12,  33, 766,  75,   4,  55,   6,   4,   3,   4,   5,\n",
       "          6,   7,   0,  11,  12],\n",
       "       [  1,  22,  33,  11, 999,  11,   2,   1,  78,   0,   1,   2,   9,\n",
       "          8,   7,   1,  76,  88]], dtype=int32)"
      ]
     },
     "execution_count": 45,
     "metadata": {},
     "output_type": "execute_result"
    }
   ],
   "source": [
    "filedata = np.genfromtxt('/kaggle/input/example-data/data.txt', delimiter=',')\n",
    "filedata = filedata.astype('int32')\n",
    "filedata"
   ]
  },
  {
   "cell_type": "markdown",
   "id": "fb87d950",
   "metadata": {
    "papermill": {
     "duration": 0.025689,
     "end_time": "2023-11-28T19:02:34.588706",
     "exception": false,
     "start_time": "2023-11-28T19:02:34.563017",
     "status": "completed"
    },
    "tags": []
   },
   "source": [
    "##### Boolean Masking e indexação avançada"
   ]
  },
  {
   "cell_type": "code",
   "execution_count": 46,
   "id": "529e9291",
   "metadata": {
    "execution": {
     "iopub.execute_input": "2023-11-28T19:02:34.643689Z",
     "iopub.status.busy": "2023-11-28T19:02:34.642908Z",
     "iopub.status.idle": "2023-11-28T19:02:34.650969Z",
     "shell.execute_reply": "2023-11-28T19:02:34.649851Z"
    },
    "papermill": {
     "duration": 0.038584,
     "end_time": "2023-11-28T19:02:34.653954",
     "exception": false,
     "start_time": "2023-11-28T19:02:34.615370",
     "status": "completed"
    },
    "tags": []
   },
   "outputs": [
    {
     "name": "stdout",
     "output_type": "stream",
     "text": [
      "[[False False False False  True  True False False False False False False\n",
      "  False False False False False False]\n",
      " [False False False False  True  True False  True False False False False\n",
      "  False False False False False False]\n",
      " [False False False False  True False False False  True False False False\n",
      "  False False False False  True  True]]\n"
     ]
    },
    {
     "data": {
      "text/plain": [
       "array([196,  75, 766,  75,  55, 999,  78,  76,  88], dtype=int32)"
      ]
     },
     "execution_count": 46,
     "metadata": {},
     "output_type": "execute_result"
    }
   ],
   "source": [
    "print(filedata > 50)\n",
    "filedata[filedata > 50]"
   ]
  },
  {
   "cell_type": "code",
   "execution_count": 47,
   "id": "3a436d7a",
   "metadata": {
    "execution": {
     "iopub.execute_input": "2023-11-28T19:02:34.708625Z",
     "iopub.status.busy": "2023-11-28T19:02:34.708227Z",
     "iopub.status.idle": "2023-11-28T19:02:34.715868Z",
     "shell.execute_reply": "2023-11-28T19:02:34.715009Z"
    },
    "papermill": {
     "duration": 0.03723,
     "end_time": "2023-11-28T19:02:34.717901",
     "exception": false,
     "start_time": "2023-11-28T19:02:34.680671",
     "status": "completed"
    },
    "tags": []
   },
   "outputs": [
    {
     "data": {
      "text/plain": [
       "array([2, 3, 9])"
      ]
     },
     "execution_count": 47,
     "metadata": {},
     "output_type": "execute_result"
    }
   ],
   "source": [
    "## É possível indexar utilizando lista no NumPy\n",
    "a = np.array([1,2,3,4,5,6,7,8,9])\n",
    "a[[1,2,8]]"
   ]
  },
  {
   "cell_type": "code",
   "execution_count": 48,
   "id": "53f30960",
   "metadata": {
    "execution": {
     "iopub.execute_input": "2023-11-28T19:02:34.772534Z",
     "iopub.status.busy": "2023-11-28T19:02:34.772156Z",
     "iopub.status.idle": "2023-11-28T19:02:34.779604Z",
     "shell.execute_reply": "2023-11-28T19:02:34.778656Z"
    },
    "papermill": {
     "duration": 0.037299,
     "end_time": "2023-11-28T19:02:34.781943",
     "exception": false,
     "start_time": "2023-11-28T19:02:34.744644",
     "status": "completed"
    },
    "tags": []
   },
   "outputs": [
    {
     "data": {
      "text/plain": [
       "array([False, False, False, False,  True,  True, False,  True,  True,\n",
       "       False, False, False, False, False, False, False,  True,  True])"
      ]
     },
     "execution_count": 48,
     "metadata": {},
     "output_type": "execute_result"
    }
   ],
   "source": [
    "np.any(filedata > 50, axis=0)"
   ]
  },
  {
   "cell_type": "code",
   "execution_count": 49,
   "id": "bcb77c88",
   "metadata": {
    "execution": {
     "iopub.execute_input": "2023-11-28T19:02:34.836838Z",
     "iopub.status.busy": "2023-11-28T19:02:34.836392Z",
     "iopub.status.idle": "2023-11-28T19:02:34.843323Z",
     "shell.execute_reply": "2023-11-28T19:02:34.842683Z"
    },
    "papermill": {
     "duration": 0.036835,
     "end_time": "2023-11-28T19:02:34.845629",
     "exception": false,
     "start_time": "2023-11-28T19:02:34.808794",
     "status": "completed"
    },
    "tags": []
   },
   "outputs": [
    {
     "data": {
      "text/plain": [
       "array([False, False, False, False,  True, False, False, False, False,\n",
       "       False, False, False, False, False, False, False, False, False])"
      ]
     },
     "execution_count": 49,
     "metadata": {},
     "output_type": "execute_result"
    }
   ],
   "source": [
    "np.all(filedata > 50, axis=0)"
   ]
  },
  {
   "cell_type": "code",
   "execution_count": 50,
   "id": "6aa06e0c",
   "metadata": {
    "execution": {
     "iopub.execute_input": "2023-11-28T19:02:34.902482Z",
     "iopub.status.busy": "2023-11-28T19:02:34.902094Z",
     "iopub.status.idle": "2023-11-28T19:02:34.910485Z",
     "shell.execute_reply": "2023-11-28T19:02:34.909702Z"
    },
    "papermill": {
     "duration": 0.039275,
     "end_time": "2023-11-28T19:02:34.912719",
     "exception": false,
     "start_time": "2023-11-28T19:02:34.873444",
     "status": "completed"
    },
    "tags": []
   },
   "outputs": [
    {
     "data": {
      "text/plain": [
       "array([[False, False, False, False, False,  True, False, False, False,\n",
       "        False, False, False, False, False, False, False, False, False],\n",
       "       [False, False, False, False, False,  True, False,  True, False,\n",
       "        False, False, False, False, False, False, False, False, False],\n",
       "       [False, False, False, False, False, False, False, False,  True,\n",
       "        False, False, False, False, False, False, False,  True,  True]])"
      ]
     },
     "execution_count": 50,
     "metadata": {},
     "output_type": "execute_result"
    }
   ],
   "source": [
    "((filedata > 50) & (filedata < 100))"
   ]
  },
  {
   "cell_type": "markdown",
   "id": "7a112ecc",
   "metadata": {
    "papermill": {
     "duration": 0.026609,
     "end_time": "2023-11-28T19:02:34.966564",
     "exception": false,
     "start_time": "2023-11-28T19:02:34.939955",
     "status": "completed"
    },
    "tags": []
   },
   "source": [
    "### Exercícios"
   ]
  },
  {
   "cell_type": "code",
   "execution_count": 51,
   "id": "ce8ab579",
   "metadata": {
    "execution": {
     "iopub.execute_input": "2023-11-28T19:02:35.025614Z",
     "iopub.status.busy": "2023-11-28T19:02:35.025191Z",
     "iopub.status.idle": "2023-11-28T19:02:35.031925Z",
     "shell.execute_reply": "2023-11-28T19:02:35.030772Z"
    },
    "papermill": {
     "duration": 0.038912,
     "end_time": "2023-11-28T19:02:35.034675",
     "exception": false,
     "start_time": "2023-11-28T19:02:34.995763",
     "status": "completed"
    },
    "tags": []
   },
   "outputs": [
    {
     "name": "stdout",
     "output_type": "stream",
     "text": [
      "[[ 1  2  3  4  5]\n",
      " [ 6  7  8  9 10]\n",
      " [11 12 13 14 15]\n",
      " [16 17 18 19 20]\n",
      " [21 22 23 24 25]\n",
      " [26 27 28 29 30]]\n"
     ]
    }
   ],
   "source": [
    "# Criar uma matriz 6x5 com números de 1 a 30\n",
    "m = np.array([np.arange(1,31)]).reshape(6,5)\n",
    "print(m)"
   ]
  },
  {
   "cell_type": "code",
   "execution_count": 52,
   "id": "02560901",
   "metadata": {
    "execution": {
     "iopub.execute_input": "2023-11-28T19:02:35.092203Z",
     "iopub.status.busy": "2023-11-28T19:02:35.091761Z",
     "iopub.status.idle": "2023-11-28T19:02:35.097894Z",
     "shell.execute_reply": "2023-11-28T19:02:35.096735Z"
    },
    "papermill": {
     "duration": 0.038229,
     "end_time": "2023-11-28T19:02:35.100619",
     "exception": false,
     "start_time": "2023-11-28T19:02:35.062390",
     "status": "completed"
    },
    "tags": []
   },
   "outputs": [
    {
     "name": "stdout",
     "output_type": "stream",
     "text": [
      "[[11 12]\n",
      " [16 17]]\n"
     ]
    }
   ],
   "source": [
    "# Retornar os 2 primeiros elementos da terceira e quarta linha\n",
    "print(m[2:4,0:2])"
   ]
  },
  {
   "cell_type": "code",
   "execution_count": 53,
   "id": "0eec882b",
   "metadata": {
    "execution": {
     "iopub.execute_input": "2023-11-28T19:02:35.157776Z",
     "iopub.status.busy": "2023-11-28T19:02:35.157357Z",
     "iopub.status.idle": "2023-11-28T19:02:35.163465Z",
     "shell.execute_reply": "2023-11-28T19:02:35.162415Z"
    },
    "papermill": {
     "duration": 0.037995,
     "end_time": "2023-11-28T19:02:35.166061",
     "exception": false,
     "start_time": "2023-11-28T19:02:35.128066",
     "status": "completed"
    },
    "tags": []
   },
   "outputs": [
    {
     "name": "stdout",
     "output_type": "stream",
     "text": [
      "[ 2  8 14 20]\n"
     ]
    }
   ],
   "source": [
    "# Retornar a diagonal de 2 a 20\n",
    "print(m[[0,1,2,3],[1,2,3,4]])"
   ]
  },
  {
   "cell_type": "code",
   "execution_count": 54,
   "id": "8898b733",
   "metadata": {
    "execution": {
     "iopub.execute_input": "2023-11-28T19:02:35.223182Z",
     "iopub.status.busy": "2023-11-28T19:02:35.222789Z",
     "iopub.status.idle": "2023-11-28T19:02:35.228366Z",
     "shell.execute_reply": "2023-11-28T19:02:35.227185Z"
    },
    "papermill": {
     "duration": 0.037631,
     "end_time": "2023-11-28T19:02:35.231266",
     "exception": false,
     "start_time": "2023-11-28T19:02:35.193635",
     "status": "completed"
    },
    "tags": []
   },
   "outputs": [
    {
     "name": "stdout",
     "output_type": "stream",
     "text": [
      "[[ 4  5]\n",
      " [24 25]\n",
      " [29 30]]\n"
     ]
    }
   ],
   "source": [
    "# Retornar os 2 últimos itens da primeira, penúltima e última linha\n",
    "print(m[[0,4,5],3:])"
   ]
  }
 ],
 "metadata": {
  "kaggle": {
   "accelerator": "none",
   "dataSources": [
    {
     "datasetId": 4076083,
     "sourceId": 7076551,
     "sourceType": "datasetVersion"
    }
   ],
   "dockerImageVersionId": 30587,
   "isGpuEnabled": false,
   "isInternetEnabled": true,
   "language": "python",
   "sourceType": "notebook"
  },
  "kernelspec": {
   "display_name": "Python 3",
   "language": "python",
   "name": "python3"
  },
  "language_info": {
   "codemirror_mode": {
    "name": "ipython",
    "version": 3
   },
   "file_extension": ".py",
   "mimetype": "text/x-python",
   "name": "python",
   "nbconvert_exporter": "python",
   "pygments_lexer": "ipython3",
   "version": "3.10.12"
  },
  "papermill": {
   "default_parameters": {},
   "duration": 7.965615,
   "end_time": "2023-11-28T19:02:35.679622",
   "environment_variables": {},
   "exception": null,
   "input_path": "__notebook__.ipynb",
   "output_path": "__notebook__.ipynb",
   "parameters": {},
   "start_time": "2023-11-28T19:02:27.714007",
   "version": "2.4.0"
  }
 },
 "nbformat": 4,
 "nbformat_minor": 5
}
